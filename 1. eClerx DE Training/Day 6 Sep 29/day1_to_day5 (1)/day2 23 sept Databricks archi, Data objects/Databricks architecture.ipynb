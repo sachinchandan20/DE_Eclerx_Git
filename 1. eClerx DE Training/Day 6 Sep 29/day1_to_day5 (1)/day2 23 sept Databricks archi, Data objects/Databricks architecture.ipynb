{
 "cells": [
  {
   "cell_type": "code",
   "execution_count": 0,
   "metadata": {
    "application/vnd.databricks.v1+cell": {
     "cellMetadata": {},
     "inputWidgets": {},
     "nuid": "e353c3d7-649f-49ce-885e-fe3eb1cb688a",
     "showTitle": false,
     "tableResultSettingsMap": {},
     "title": ""
    }
   },
   "outputs": [],
   "source": [
    "https://docs.databricks.com/aws/en/getting-started/high-level-architecture"
   ]
  },
  {
   "cell_type": "code",
   "execution_count": 0,
   "metadata": {
    "application/vnd.databricks.v1+cell": {
     "cellMetadata": {},
     "inputWidgets": {},
     "nuid": "ebfa5cc8-60e9-4f38-ada4-e90a017fc14b",
     "showTitle": false,
     "tableResultSettingsMap": {},
     "title": ""
    }
   },
   "outputs": [],
   "source": [
    "Control plane (Databricks account ): databricks software\n",
    "1. compute orchestration \n",
    "2. unity catalog (governance)\n",
    "3. jobs and pipeline\n",
    "4. ui\n",
    "5. notebooks and quries \n",
    "6. serverless compute\n",
    "etc, etc\n",
    "\n",
    "\n",
    "Data Plane (cloud account) (azure, aws, gcp)\n",
    "1. classic compute\n",
    "2. storage"
   ]
  }
 ],
 "metadata": {
  "application/vnd.databricks.v1+notebook": {
   "computePreferences": null,
   "dashboards": [],
   "environmentMetadata": {
    "base_environment": "",
    "environment_version": "3"
   },
   "inputWidgetPreferences": null,
   "language": "scala",
   "notebookMetadata": {
    "pythonIndentUnit": 4
   },
   "notebookName": "Databricks architecture",
   "widgets": {}
  },
  "language_info": {
   "name": "scala"
  }
 },
 "nbformat": 4,
 "nbformat_minor": 0
}
